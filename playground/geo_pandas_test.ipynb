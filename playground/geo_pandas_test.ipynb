{
 "cells": [
  {
   "cell_type": "code",
   "execution_count": 33,
   "metadata": {
    "collapsed": true,
    "ExecuteTime": {
     "start_time": "2024-01-03T15:52:23.916010Z",
     "end_time": "2024-01-03T15:52:23.930042Z"
    }
   },
   "outputs": [],
   "source": [
    "from shapely.geometry import Point, LineString\n",
    "import geopandas as gpd\n",
    "import numpy as np\n",
    "from src.utils import RoadState, RoadLevel\n",
    "import uuid\n",
    "import pandas as pd\n",
    "from numba import jit"
   ]
  },
  {
   "cell_type": "code",
   "execution_count": 34,
   "outputs": [
    {
     "data": {
      "text/plain": "Empty GeoDataFrame\nColumns: [geometry, level, state]\nIndex: []",
      "text/html": "<div>\n<style scoped>\n    .dataframe tbody tr th:only-of-type {\n        vertical-align: middle;\n    }\n\n    .dataframe tbody tr th {\n        vertical-align: top;\n    }\n\n    .dataframe thead th {\n        text-align: right;\n    }\n</style>\n<table border=\"1\" class=\"dataframe\">\n  <thead>\n    <tr style=\"text-align: right;\">\n      <th></th>\n      <th>geometry</th>\n      <th>level</th>\n      <th>state</th>\n    </tr>\n    <tr>\n      <th>uid</th>\n      <th></th>\n      <th></th>\n      <th></th>\n    </tr>\n  </thead>\n  <tbody>\n  </tbody>\n</table>\n</div>"
     },
     "execution_count": 34,
     "metadata": {},
     "output_type": "execute_result"
    }
   ],
   "source": [
    "attrs = ['geometry', 'level', 'state', 'uid']\n",
    "# 指定列名创建空的 DataFrame\n",
    "gdf = gpd.GeoDataFrame(columns=attrs)\n",
    "gdf.set_index('uid')"
   ],
   "metadata": {
    "collapsed": false,
    "ExecuteTime": {
     "start_time": "2024-01-03T15:52:24.069553Z",
     "end_time": "2024-01-03T15:52:24.089553Z"
    }
   }
  },
  {
   "cell_type": "code",
   "execution_count": 35,
   "outputs": [],
   "source": [
    "def add_road(points: np.ndarray, level: RoadLevel, state: RoadState):\n",
    "    global gdf\n",
    "    if len(points) < 2:\n",
    "        geometry = Point(points)\n",
    "    else:\n",
    "        geometry = LineString(points)\n",
    "    uid = uuid.uuid4()\n",
    "    new_row = {'geometry': [geometry], 'level': [level], 'state': [state], 'uid': [uid]}\n",
    "    new_gdf = gpd.GeoDataFrame(new_row, index=new_row['uid'])\n",
    "    gdf = gpd.pd.concat([gdf, new_gdf], ignore_index=False)\n",
    "    return uid"
   ],
   "metadata": {
    "collapsed": false,
    "ExecuteTime": {
     "start_time": "2024-01-03T15:52:24.238545Z",
     "end_time": "2024-01-03T15:52:24.259545Z"
    }
   }
  },
  {
   "cell_type": "code",
   "execution_count": 36,
   "outputs": [],
   "source": [
    "uid1 = add_road(np.array([[0, 0]]), RoadLevel.MAIN, RoadState.RAW)\n",
    "uid2 = add_road(np.array([[1, 1]]), RoadLevel.SECONDARY, RoadState.OPTIMIZING)"
   ],
   "metadata": {
    "collapsed": false,
    "ExecuteTime": {
     "start_time": "2024-01-03T15:52:24.390056Z",
     "end_time": "2024-01-03T15:52:24.409056Z"
    }
   }
  },
  {
   "cell_type": "code",
   "execution_count": 37,
   "outputs": [
    {
     "data": {
      "text/plain": "                                                     geometry  \\\n14ac7a94-f993-4fa2-9d6f-8262e603dac9  POINT (0.00000 0.00000)   \nf584ac29-cb7e-4e83-a282-5fff48ebbacb  POINT (1.00000 1.00000)   \n\n                                                    level  \\\n14ac7a94-f993-4fa2-9d6f-8262e603dac9       RoadLevel.MAIN   \nf584ac29-cb7e-4e83-a282-5fff48ebbacb  RoadLevel.SECONDARY   \n\n                                                     state  \\\n14ac7a94-f993-4fa2-9d6f-8262e603dac9         RoadState.RAW   \nf584ac29-cb7e-4e83-a282-5fff48ebbacb  RoadState.OPTIMIZING   \n\n                                                                       uid  \n14ac7a94-f993-4fa2-9d6f-8262e603dac9  14ac7a94-f993-4fa2-9d6f-8262e603dac9  \nf584ac29-cb7e-4e83-a282-5fff48ebbacb  f584ac29-cb7e-4e83-a282-5fff48ebbacb  ",
      "text/html": "<div>\n<style scoped>\n    .dataframe tbody tr th:only-of-type {\n        vertical-align: middle;\n    }\n\n    .dataframe tbody tr th {\n        vertical-align: top;\n    }\n\n    .dataframe thead th {\n        text-align: right;\n    }\n</style>\n<table border=\"1\" class=\"dataframe\">\n  <thead>\n    <tr style=\"text-align: right;\">\n      <th></th>\n      <th>geometry</th>\n      <th>level</th>\n      <th>state</th>\n      <th>uid</th>\n    </tr>\n  </thead>\n  <tbody>\n    <tr>\n      <th>14ac7a94-f993-4fa2-9d6f-8262e603dac9</th>\n      <td>POINT (0.00000 0.00000)</td>\n      <td>RoadLevel.MAIN</td>\n      <td>RoadState.RAW</td>\n      <td>14ac7a94-f993-4fa2-9d6f-8262e603dac9</td>\n    </tr>\n    <tr>\n      <th>f584ac29-cb7e-4e83-a282-5fff48ebbacb</th>\n      <td>POINT (1.00000 1.00000)</td>\n      <td>RoadLevel.SECONDARY</td>\n      <td>RoadState.OPTIMIZING</td>\n      <td>f584ac29-cb7e-4e83-a282-5fff48ebbacb</td>\n    </tr>\n  </tbody>\n</table>\n</div>"
     },
     "execution_count": 37,
     "metadata": {},
     "output_type": "execute_result"
    }
   ],
   "source": [
    "gdf"
   ],
   "metadata": {
    "collapsed": false,
    "ExecuteTime": {
     "start_time": "2024-01-03T15:52:24.579074Z",
     "end_time": "2024-01-03T15:52:24.594074Z"
    }
   }
  },
  {
   "cell_type": "code",
   "execution_count": 38,
   "outputs": [
    {
     "data": {
      "text/plain": "geometry                             POINT (1 1)\nlevel                        RoadLevel.SECONDARY\nstate                       RoadState.OPTIMIZING\nuid         f584ac29-cb7e-4e83-a282-5fff48ebbacb\nName: f584ac29-cb7e-4e83-a282-5fff48ebbacb, dtype: object"
     },
     "execution_count": 38,
     "metadata": {},
     "output_type": "execute_result"
    }
   ],
   "source": [
    "road = gdf.loc[uid2]\n",
    "road"
   ],
   "metadata": {
    "collapsed": false,
    "ExecuteTime": {
     "start_time": "2024-01-03T15:52:24.734525Z",
     "end_time": "2024-01-03T15:52:24.747524Z"
    }
   }
  },
  {
   "cell_type": "code",
   "execution_count": 39,
   "outputs": [],
   "source": [
    "geo = road['geometry']\n"
   ],
   "metadata": {
    "collapsed": false,
    "ExecuteTime": {
     "start_time": "2024-01-03T15:52:24.931741Z",
     "end_time": "2024-01-03T15:52:24.947740Z"
    }
   }
  },
  {
   "cell_type": "code",
   "execution_count": 40,
   "outputs": [],
   "source": [
    "points = np.array(list(geo.coords))\n"
   ],
   "metadata": {
    "collapsed": false,
    "ExecuteTime": {
     "start_time": "2024-01-03T15:52:25.132682Z",
     "end_time": "2024-01-03T15:52:25.140681Z"
    }
   }
  },
  {
   "cell_type": "code",
   "execution_count": 41,
   "outputs": [
    {
     "data": {
      "text/plain": "<LINESTRING (1 1, 2 2)>",
      "image/svg+xml": "<svg xmlns=\"http://www.w3.org/2000/svg\" xmlns:xlink=\"http://www.w3.org/1999/xlink\" width=\"100.0\" height=\"100.0\" viewBox=\"0.96 0.96 1.08 1.08\" preserveAspectRatio=\"xMinYMin meet\"><g transform=\"matrix(1,0,0,-1,0,3.0)\"><polyline fill=\"none\" stroke=\"#66cc99\" stroke-width=\"0.0216\" points=\"1.0,1.0 2.0,2.0\" opacity=\"0.8\" /></g></svg>"
     },
     "execution_count": 41,
     "metadata": {},
     "output_type": "execute_result"
    }
   ],
   "source": [
    "new_point = np.array([[2,2]])\n",
    "new_points = np.vstack([points, new_point])\n",
    "new_geo = LineString(new_points)\n",
    "new_geo"
   ],
   "metadata": {
    "collapsed": false,
    "ExecuteTime": {
     "start_time": "2024-01-03T15:52:25.612768Z",
     "end_time": "2024-01-03T15:52:25.641780Z"
    }
   }
  },
  {
   "cell_type": "code",
   "execution_count": 42,
   "outputs": [
    {
     "data": {
      "text/plain": "                                                                           geometry  \\\n14ac7a94-f993-4fa2-9d6f-8262e603dac9                        POINT (0.00000 0.00000)   \nf584ac29-cb7e-4e83-a282-5fff48ebbacb  LINESTRING (1.00000 1.00000, 2.00000 2.00000)   \n\n                                                    level  \\\n14ac7a94-f993-4fa2-9d6f-8262e603dac9       RoadLevel.MAIN   \nf584ac29-cb7e-4e83-a282-5fff48ebbacb  RoadLevel.SECONDARY   \n\n                                                     state  \\\n14ac7a94-f993-4fa2-9d6f-8262e603dac9         RoadState.RAW   \nf584ac29-cb7e-4e83-a282-5fff48ebbacb  RoadState.OPTIMIZING   \n\n                                                                       uid  \n14ac7a94-f993-4fa2-9d6f-8262e603dac9  14ac7a94-f993-4fa2-9d6f-8262e603dac9  \nf584ac29-cb7e-4e83-a282-5fff48ebbacb  f584ac29-cb7e-4e83-a282-5fff48ebbacb  ",
      "text/html": "<div>\n<style scoped>\n    .dataframe tbody tr th:only-of-type {\n        vertical-align: middle;\n    }\n\n    .dataframe tbody tr th {\n        vertical-align: top;\n    }\n\n    .dataframe thead th {\n        text-align: right;\n    }\n</style>\n<table border=\"1\" class=\"dataframe\">\n  <thead>\n    <tr style=\"text-align: right;\">\n      <th></th>\n      <th>geometry</th>\n      <th>level</th>\n      <th>state</th>\n      <th>uid</th>\n    </tr>\n  </thead>\n  <tbody>\n    <tr>\n      <th>14ac7a94-f993-4fa2-9d6f-8262e603dac9</th>\n      <td>POINT (0.00000 0.00000)</td>\n      <td>RoadLevel.MAIN</td>\n      <td>RoadState.RAW</td>\n      <td>14ac7a94-f993-4fa2-9d6f-8262e603dac9</td>\n    </tr>\n    <tr>\n      <th>f584ac29-cb7e-4e83-a282-5fff48ebbacb</th>\n      <td>LINESTRING (1.00000 1.00000, 2.00000 2.00000)</td>\n      <td>RoadLevel.SECONDARY</td>\n      <td>RoadState.OPTIMIZING</td>\n      <td>f584ac29-cb7e-4e83-a282-5fff48ebbacb</td>\n    </tr>\n  </tbody>\n</table>\n</div>"
     },
     "execution_count": 42,
     "metadata": {},
     "output_type": "execute_result"
    }
   ],
   "source": [
    "gdf.at[road['uid'], 'geometry'] = new_geo\n",
    "gdf"
   ],
   "metadata": {
    "collapsed": false,
    "ExecuteTime": {
     "start_time": "2024-01-03T15:52:25.810407Z",
     "end_time": "2024-01-03T15:52:25.822408Z"
    }
   }
  },
  {
   "cell_type": "code",
   "execution_count": 43,
   "outputs": [
    {
     "data": {
      "text/plain": "<Axes: >"
     },
     "execution_count": 43,
     "metadata": {},
     "output_type": "execute_result"
    },
    {
     "data": {
      "text/plain": "<Figure size 640x480 with 1 Axes>",
      "image/png": "[encoded data removed]"
     },
     "metadata": {},
     "output_type": "display_data"
    }
   ],
   "source": [
    "gdf.plot(column='level')"
   ],
   "metadata": {
    "collapsed": false,
    "ExecuteTime": {
     "start_time": "2024-01-03T15:52:26.254579Z",
     "end_time": "2024-01-03T15:52:26.335089Z"
    }
   }
  },
  {
   "cell_type": "code",
   "execution_count": 44,
   "outputs": [
    {
     "data": {
      "text/plain": "geometry                   LINESTRING (1 1, 2 2)\nlevel                        RoadLevel.SECONDARY\nstate                       RoadState.OPTIMIZING\nuid         f584ac29-cb7e-4e83-a282-5fff48ebbacb\nName: f584ac29-cb7e-4e83-a282-5fff48ebbacb, dtype: object"
     },
     "execution_count": 44,
     "metadata": {},
     "output_type": "execute_result"
    }
   ],
   "source": [
    "road = gdf.loc[uid2]\n",
    "road"
   ],
   "metadata": {
    "collapsed": false,
    "ExecuteTime": {
     "start_time": "2024-01-03T15:52:26.779427Z",
     "end_time": "2024-01-03T15:52:26.803427Z"
    }
   }
  },
  {
   "cell_type": "code",
   "execution_count": 45,
   "outputs": [],
   "source": [
    "from shapely.ops import split"
   ],
   "metadata": {
    "collapsed": false,
    "ExecuteTime": {
     "start_time": "2024-01-03T15:52:29.697139Z",
     "end_time": "2024-01-03T15:52:29.705139Z"
    }
   }
  },
  {
   "cell_type": "code",
   "execution_count": 46,
   "outputs": [
    {
     "data": {
      "text/plain": "[<LINESTRING (1 1, 1.3 1.3)>, <LINESTRING (1.3 1.3, 2 2)>]"
     },
     "execution_count": 46,
     "metadata": {},
     "output_type": "execute_result"
    }
   ],
   "source": [
    "geo = road['geometry']\n",
    "uid = road['uid']\n",
    "state = road['state']\n",
    "level = road['level']\n",
    "\n",
    "if not isinstance(geo, LineString):\n",
    "    raise Exception('error')\n",
    "cut_point = geo.interpolate(0.3, True)\n",
    "result = list(split(geo, cut_point).geoms)\n",
    "assert len(result) == 2\n",
    "result"
   ],
   "metadata": {
    "collapsed": false,
    "ExecuteTime": {
     "start_time": "2024-01-03T15:52:30.512617Z",
     "end_time": "2024-01-03T15:52:30.525617Z"
    }
   }
  },
  {
   "cell_type": "code",
   "execution_count": 48,
   "outputs": [
    {
     "data": {
      "text/plain": "geometry                             POINT (0 0)\nlevel                             RoadLevel.MAIN\nstate                              RoadState.RAW\nuid         14ac7a94-f993-4fa2-9d6f-8262e603dac9\nName: 14ac7a94-f993-4fa2-9d6f-8262e603dac9, dtype: object"
     },
     "execution_count": 48,
     "metadata": {},
     "output_type": "execute_result"
    }
   ],
   "source": [
    "road = gdf.loc[uid1]\n",
    "road"
   ],
   "metadata": {
    "collapsed": false,
    "ExecuteTime": {
     "start_time": "2024-01-03T15:52:44.662072Z",
     "end_time": "2024-01-03T15:52:44.676070Z"
    }
   }
  },
  {
   "cell_type": "code",
   "execution_count": 50,
   "outputs": [
    {
     "data": {
      "text/plain": "(1, 2)"
     },
     "execution_count": 50,
     "metadata": {},
     "output_type": "execute_result"
    }
   ],
   "source": [
    "pts = np.array(list(road['geometry'].coords))\n",
    "pts.shape"
   ],
   "metadata": {
    "collapsed": false,
    "ExecuteTime": {
     "start_time": "2024-01-03T15:53:23.477050Z",
     "end_time": "2024-01-03T15:53:23.494051Z"
    }
   }
  },
  {
   "cell_type": "code",
   "execution_count": 74,
   "outputs": [
    {
     "data": {
      "text/plain": "array([[0., 0.],\n       [1., 1.],\n       [0., 0.],\n       [2., 2.]])"
     },
     "execution_count": 74,
     "metadata": {},
     "output_type": "execute_result"
    }
   ],
   "source": [
    "\n",
    "start_points = np.array(gdf['geometry'].apply(lambda geom: geom.coords[0]).tolist())\n",
    "end_points = np.array(gdf['geometry'].apply(lambda geom: geom.coords[-1]).tolist())\n",
    "all_points = np.vstack([start_points, end_points])\n",
    "all_points\n"
   ],
   "metadata": {
    "collapsed": false,
    "ExecuteTime": {
     "start_time": "2024-01-03T16:14:30.442509Z",
     "end_time": "2024-01-03T16:14:30.448509Z"
    }
   }
  },
  {
   "cell_type": "code",
   "execution_count": 82,
   "outputs": [
    {
     "data": {
      "text/plain": "array([[0., 0.],\n       [1., 1.],\n       [2., 2.]])"
     },
     "execution_count": 82,
     "metadata": {},
     "output_type": "execute_result"
    }
   ],
   "source": [
    "unique_points, new2old, old2new = np.unique(all_points, axis=0, return_index=True, return_inverse=True)\n",
    "unique_points"
   ],
   "metadata": {
    "collapsed": false,
    "ExecuteTime": {
     "start_time": "2024-01-03T16:17:12.520665Z",
     "end_time": "2024-01-03T16:17:12.533666Z"
    }
   }
  },
  {
   "cell_type": "code",
   "execution_count": 83,
   "outputs": [
    {
     "data": {
      "text/plain": "array([0, 1, 0, 2], dtype=int64)"
     },
     "execution_count": 83,
     "metadata": {},
     "output_type": "execute_result"
    }
   ],
   "source": [
    "old2new"
   ],
   "metadata": {
    "collapsed": false,
    "ExecuteTime": {
     "start_time": "2024-01-03T16:17:12.703338Z",
     "end_time": "2024-01-03T16:17:12.722338Z"
    }
   }
  },
  {
   "cell_type": "code",
   "execution_count": 84,
   "outputs": [
    {
     "data": {
      "text/plain": "array([0, 1, 3], dtype=int64)"
     },
     "execution_count": 84,
     "metadata": {},
     "output_type": "execute_result"
    }
   ],
   "source": [
    "new2old"
   ],
   "metadata": {
    "collapsed": false,
    "ExecuteTime": {
     "start_time": "2024-01-03T16:17:17.512130Z",
     "end_time": "2024-01-03T16:17:17.533130Z"
    }
   }
  },
  {
   "cell_type": "code",
   "execution_count": 73,
   "outputs": [],
   "source": [],
   "metadata": {
    "collapsed": false,
    "ExecuteTime": {
     "start_time": "2024-01-03T16:14:28.484430Z",
     "end_time": "2024-01-03T16:14:28.508435Z"
    }
   }
  },
  {
   "cell_type": "code",
   "execution_count": null,
   "outputs": [],
   "source": [],
   "metadata": {
    "collapsed": false
   }
  },
  {
   "cell_type": "code",
   "execution_count": 127,
   "outputs": [
    {
     "data": {
      "text/plain": "Empty GeoDataFrame\nColumns: [geometry, level, state, uid]\nIndex: []",
      "text/html": "<div>\n<style scoped>\n    .dataframe tbody tr th:only-of-type {\n        vertical-align: middle;\n    }\n\n    .dataframe tbody tr th {\n        vertical-align: top;\n    }\n\n    .dataframe thead th {\n        text-align: right;\n    }\n</style>\n<table border=\"1\" class=\"dataframe\">\n  <thead>\n    <tr style=\"text-align: right;\">\n      <th></th>\n      <th>geometry</th>\n      <th>level</th>\n      <th>state</th>\n      <th>uid</th>\n    </tr>\n  </thead>\n  <tbody>\n  </tbody>\n</table>\n</div>"
     },
     "execution_count": 127,
     "metadata": {},
     "output_type": "execute_result"
    }
   ],
   "source": [
    "gdf = gdf.drop(gdf['uid'])\n",
    "gdf"
   ],
   "metadata": {
    "collapsed": false,
    "ExecuteTime": {
     "start_time": "2024-01-03T13:18:47.389494Z",
     "end_time": "2024-01-03T13:18:47.408493Z"
    }
   }
  },
  {
   "cell_type": "code",
   "execution_count": 88,
   "outputs": [
    {
     "name": "stdout",
     "output_type": "stream",
     "text": [
      "A {'x': 0, 'y': 0, 'geometry': 'Point A'}\n",
      "B {'x': 1, 'y': 1, 'geometry': 'Point B'}\n",
      "C {'x': 2, 'y': 2, 'geometry': 'Point C'}\n"
     ]
    }
   ],
   "source": [
    "import networkx as nx\n",
    "import pandas as pd\n",
    "\n",
    "# 假设 G 是一个 NetworkX 图\n",
    "G = nx.Graph()\n",
    "\n",
    "# 添加节点和节点属性\n",
    "G.add_node('A', x=0, y=0, geometry='Point A')\n",
    "G.add_node('B', x=1, y=1, geometry='Point B')\n",
    "G.add_node('C', x=2, y=2, geometry='Point C')\n",
    "\n",
    "for uid, data in G.nodes.data():\n",
    "    print(uid, data)"
   ],
   "metadata": {
    "collapsed": false,
    "ExecuteTime": {
     "start_time": "2024-01-03T22:25:02.358180Z",
     "end_time": "2024-01-03T22:25:02.368177Z"
    }
   }
  },
  {
   "cell_type": "code",
   "execution_count": null,
   "outputs": [],
   "source": [],
   "metadata": {
    "collapsed": false
   }
  }
 ],
 "metadata": {
  "kernelspec": {
   "display_name": "Python 3",
   "language": "python",
   "name": "python3"
  },
  "language_info": {
   "codemirror_mode": {
    "name": "ipython",
    "version": 2
   },
   "file_extension": ".py",
   "mimetype": "text/x-python",
   "name": "python",
   "nbconvert_exporter": "python",
   "pygments_lexer": "ipython2",
   "version": "2.7.6"
  }
 },
 "nbformat": 4,
 "nbformat_minor": 0
}
